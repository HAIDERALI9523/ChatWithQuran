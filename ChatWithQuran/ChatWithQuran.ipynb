{
 "cells": [
  {
   "cell_type": "markdown",
   "id": "ee059407-58ac-50fa-843a-7b876328df13",
   "metadata": {
    "id": "ee059407-58ac-50fa-843a-7b876328df13"
   },
   "source": [
    "## Setup"
   ]
  },
  {
   "cell_type": "code",
   "execution_count": null,
   "id": "d6e3ecc5-3c05-518b-8285-cf9dbf06ec58",
   "metadata": {
    "colab": {
     "base_uri": "https://localhost:8080/"
    },
    "id": "d6e3ecc5-3c05-518b-8285-cf9dbf06ec58",
    "outputId": "b0add96c-0c76-4bbd-9e9f-4dba945faf57"
   },
   "outputs": [
    {
     "name": "stdout",
     "output_type": "stream",
     "text": [
      "Defaulting to user installation because normal site-packages is not writeable\n",
      "Collecting vanna\n",
      "  Downloading vanna-0.7.5-py3-none-any.whl (202 kB)\n",
      "\u001b[2K     \u001b[90m━━━━━━━━━━━━━━━━━━━━━━━━━━━━━━━━━━━━━\u001b[0m \u001b[32m202.4/202.4 KB\u001b[0m \u001b[31m271.8 kB/s\u001b[0m eta \u001b[36m0:00:00\u001b[0ma \u001b[36m0:00:01\u001b[0m\n",
      "\u001b[?25hCollecting flasgger\n",
      "  Downloading flasgger-0.9.7.1.tar.gz (4.0 MB)\n",
      "\u001b[2K     \u001b[90m━━━━━━━━━━━━━━━━━━━━━━━━━━━━━━━━━━━━━━━━\u001b[0m \u001b[32m4.0/4.0 MB\u001b[0m \u001b[31m2.8 MB/s\u001b[0m eta \u001b[36m0:00:00\u001b[0m00:01\u001b[0m00:01\u001b[0m0m\n",
      "\u001b[?25h  Preparing metadata (setup.py) ... \u001b[?25l"
     ]
    }
   ],
   "source": [
    "%pip install vanna"
   ]
  },
  {
   "cell_type": "code",
   "execution_count": 2,
   "id": "52b8efb0-35ca-56e8-a286-bc08ed219bf0",
   "metadata": {
    "id": "52b8efb0-35ca-56e8-a286-bc08ed219bf0"
   },
   "outputs": [],
   "source": [
    "import vanna\n",
    "from vanna.remote import VannaDefault\n",
    "import logging\n"
   ]
  },
  {
   "cell_type": "code",
   "execution_count": 3,
   "id": "28a8d8a1-669f-5f8b-82c4-73a0eb221d64",
   "metadata": {
    "id": "28a8d8a1-669f-5f8b-82c4-73a0eb221d64"
   },
   "outputs": [],
   "source": [
    "api_key = 'e7c46615470b43d196aa1e2e8eece0a2'\n",
    "\n",
    "vanna_model_name = 'chatwithquran'\n",
    "vn = VannaDefault(model=vanna_model_name, api_key=api_key)"
   ]
  },
  {
   "cell_type": "code",
   "execution_count": 4,
   "id": "4bb60e4c-1036-5c5d-84c6-11c9f2e9c8d1",
   "metadata": {
    "id": "4bb60e4c-1036-5c5d-84c6-11c9f2e9c8d1"
   },
   "outputs": [
    {
     "name": "stderr",
     "output_type": "stream",
     "text": [
      "2024-12-25 18:57:58,614 - INFO - Starting Vanna setup process\n",
      "2024-12-25 18:57:58,616 - INFO - Connecting to MySQL database\n",
      "2024-12-25 18:57:58,617 - INFO - Database connection established\n"
     ]
    }
   ],
   "source": [
    "# Configure logging\n",
    "logging.basicConfig(\n",
    "    level=logging.INFO,\n",
    "    format='%(asctime)s - %(levelname)s - %(message)s'\n",
    ")\n",
    "logger = logging.getLogger(__name__)\n",
    "\n",
    "logger.info(\"Starting Vanna setup process\")\n",
    "\n",
    "# # Retrieve secrets from Key Vault\n",
    "# logger.info(\"Retrieving credentials from Key Vault\")\n",
    "# db_user = key_vault_client.get_secret(vault_key_username).value\n",
    "# db_password = key_vault_client.get_secret(vault_key_password).value\n",
    "# logger.info(\"Successfully retrieved credentials\")\n",
    "\n",
    "# Connect to MySQL database\n",
    "logger.info(\"Connecting to MySQL database\")\n",
    "vn.connect_to_sqlite('qurantranslation')\n",
    "logger.info(\"Database connection established\")\n",
    "\n"
   ]
  },
  {
   "cell_type": "markdown",
   "id": "f06c0e89-83f7-5ad1-8f6e-a64cf5bd8e60",
   "metadata": {
    "id": "f06c0e89-83f7-5ad1-8f6e-a64cf5bd8e60"
   },
   "source": [
    "## Training\n",
    "You only need to train once. Do not train again unless you want to add more training data."
   ]
  },
  {
   "cell_type": "code",
   "execution_count": null,
   "id": "068a891d-bbab-5462-9767-ebf7211fe423",
   "metadata": {
    "id": "068a891d-bbab-5462-9767-ebf7211fe423"
   },
   "outputs": [],
   "source": [
    "# #     # Fetch schema information\n",
    "# logger.info(\"Fetching database schema information\")\n",
    "# df_information_schema = vn.run_sql('SELECT * FROM INFORMATION_SCHEMA;')\n",
    "# logger.info(f\"Retrieved schema information for {len(df_information_schema)} columns\")\n",
    "# #\n",
    "# #     # Generate training plan\n",
    "# logger.info(\"Generating training plan\")\n",
    "# plan = vn.get_training_plan_generic(df_information_schema)\n",
    "# logger.info(\"Training plan generated successfully\")\n",
    "\n",
    "# Train with DDL\n",
    "logger.info(\"Training with DDL statements\")\n",
    "vn.train(ddl=\"\"\"\n",
    "    CREATE TABLE qurantranslation (\n",
    "        Name TEXT,\n",
    "        Surah INTEGER,\n",
    "        Ayat INTEGER,\n",
    "        Arabic TEXT,\n",
    "        Translation_Tahir_ul_Qadri TEXT,\n",
    "        Translation_ArthurJ TEXT, \n",
    "        Translation_Marmaduke_Pickthall TEXT,\n",
    "        Tafaseer_al_Jalalayn TEXT,\n",
    "        Tafaseer_Tanwir_al_Miqbas TEXT,\n",
    "        EnglishTitle TEXT,\n",
    "        ArabicTitle TEXT,\n",
    "        RomanTitle TEXT,\n",
    "        NumberOfVerses INTEGER,\n",
    "        NumberOfRukus TEXT,\n",
    "        PlaceOfRevelation TEXT,\n",
    "        PRIMARY KEY (Surah, Ayat)\n",
    "    );\n",
    "\n",
    "\"\"\")\n",
    "\n",
    "# Train with documentation\n",
    "logger.info(\"Adding business documentation\")\n",
    "with open('Documentation1.txt', 'r') as file:\n",
    "    # Read all lines and split by comma\n",
    "    # Open file with UTF-8 encoding\n",
    "    with open('documentation_list.txt', 'r', encoding='utf-8') as file:\n",
    "        docs = file.read().split(',')\n",
    "\n",
    "\n",
    "    for doc in docs:\n",
    "        # Clean up the documentation string\n",
    "        doc = doc.strip().strip('\"').strip()\n",
    "        if doc:  # Check if doc is not empty\n",
    "            # Train the model\n",
    "            vn.train(documentation=doc)\n",
    "            print(f\"Trained with documentation: {doc[:50]}...\")\n",
    "\n",
    "# logger.info(\"Documentation training completed\")\n",
    "\n",
    "# Train with example SQL\n",
    "# logger.info(\"Training with example SQL queries\")\n",
    "# # Read the file and train the model\n",
    "# with open('golden_dataset.txt', 'r') as file:\n",
    "#     for line in file:\n",
    "#         # Split the line into question and SQL parts\n",
    "#         question, sql = line.strip().split(',', 1)\n",
    "#         # Remove the trailing semicolon from SQL\n",
    "#         sql = sql.rstrip(';')\n",
    "#         # Train the model\n",
    "#         vn.train(question=question, sql=sql)\n",
    "\n",
    "# logger.info(\"SQL query training completed\")\n",
    "vn.train(sql=\"SELECT * FROM qurantranslation WHERE Translation_Tahir_ul_Qadri LIKE '%truth%'\")\n",
    "# Get final training data\n",
    "logger.info(\"Retrieving final training data\")\n",
    "training_data = vn.get_training_data()\n",
    "logger.info(\"Setup complete - Vanna is ready to use\")\n"
   ]
  },
  {
   "cell_type": "markdown",
   "id": "8c49dd68-3bc6-5098-93f1-2d4d8617badb",
   "metadata": {
    "id": "8c49dd68-3bc6-5098-93f1-2d4d8617badb"
   },
   "source": [
    "## Launch the User Interface"
   ]
  },
  {
   "cell_type": "code",
   "execution_count": 6,
   "id": "83ba2ac6",
   "metadata": {},
   "outputs": [],
   "source": [
    "# vn.ask(\"give me all the translations, tafseer of all the ayat that contains misguidance in it\")"
   ]
  },
  {
   "cell_type": "markdown",
   "id": "904fceba",
   "metadata": {},
   "source": []
  },
  {
   "cell_type": "code",
   "execution_count": null,
   "id": "b87d140b-ef56-5795-b489-46bb11d01459",
   "metadata": {
    "id": "b87d140b-ef56-5795-b489-46bb11d01459"
   },
   "outputs": [
    {
     "name": "stdout",
     "output_type": "stream",
     "text": [
      "Your app is running at:\n",
      "http://localhost:8084\n",
      " * Serving Flask app 'vanna.flask'\n",
      " * Debug mode: on\n",
      "None\n",
      "None\n",
      "None\n",
      "None\n",
      "None\n",
      "None\n",
      "None\n",
      "None\n",
      "None\n",
      "None\n"
     ]
    }
   ],
   "source": [
    "from vanna.flask import VannaFlaskApp\n",
    "app = VannaFlaskApp(vn, allow_llm_to_see_data=True)\n",
    "app.run()"
   ]
  }
 ],
 "metadata": {
  "colab": {
   "provenance": []
  },
  "kernelspec": {
   "display_name": "Python 3",
   "language": "python",
   "name": "python3"
  },
  "language_info": {
   "codemirror_mode": {
    "name": "ipython",
    "version": 3
   },
   "file_extension": ".py",
   "mimetype": "text/x-python",
   "name": "python",
   "nbconvert_exporter": "python",
   "pygments_lexer": "ipython3",
   "version": "3.10.12"
  }
 },
 "nbformat": 4,
 "nbformat_minor": 5
}
